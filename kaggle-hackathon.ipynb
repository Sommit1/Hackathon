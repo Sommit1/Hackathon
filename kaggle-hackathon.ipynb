{
 "cells": [
  {
   "cell_type": "code",
   "execution_count": 1,
   "id": "3a6184d3",
   "metadata": {
    "execution": {
     "iopub.execute_input": "2025-07-04T07:47:11.050018Z",
     "iopub.status.busy": "2025-07-04T07:47:11.049575Z",
     "iopub.status.idle": "2025-07-04T07:47:15.744056Z",
     "shell.execute_reply": "2025-07-04T07:47:15.743182Z"
    },
    "papermill": {
     "duration": 4.700861,
     "end_time": "2025-07-04T07:47:15.746064",
     "exception": false,
     "start_time": "2025-07-04T07:47:11.045203",
     "status": "completed"
    },
    "tags": []
   },
   "outputs": [],
   "source": [
    "import numpy as np\n",
    "import pandas as pd\n",
    "from sklearn.linear_model import LogisticRegression\n",
    "from sklearn.model_selection import StratifiedKFold, cross_val_score\n",
    "from sklearn.impute import KNNImputer\n",
    "from sklearn.preprocessing import StandardScaler\n",
    "from sklearn.pipeline import Pipeline\n",
    "\n",
    "train = pd.read_csv(\"/kaggle/input/csvs-file/hacktrain.csv\")\n",
    "test = pd.read_csv(\"/kaggle/input/csvs-file/hacktest.csv\")\n"
   ]
  },
  {
   "cell_type": "code",
   "execution_count": 2,
   "id": "1ec53336",
   "metadata": {
    "execution": {
     "iopub.execute_input": "2025-07-04T07:47:15.752800Z",
     "iopub.status.busy": "2025-07-04T07:47:15.752313Z",
     "iopub.status.idle": "2025-07-04T07:47:15.857807Z",
     "shell.execute_reply": "2025-07-04T07:47:15.856434Z"
    },
    "papermill": {
     "duration": 0.11069,
     "end_time": "2025-07-04T07:47:15.859669",
     "exception": false,
     "start_time": "2025-07-04T07:47:15.748979",
     "status": "completed"
    },
    "tags": []
   },
   "outputs": [],
   "source": [
    "ndvi_cols = [col for col in train.columns if col.endswith('_N')]\n",
    "\n",
    "for df in [train, test]:\n",
    "    for col in ndvi_cols:\n",
    "        df[col] = df[col].rolling(window=3, min_periods=1, center=True).median()\n"
   ]
  },
  {
   "cell_type": "code",
   "execution_count": 3,
   "id": "18d96e16",
   "metadata": {
    "execution": {
     "iopub.execute_input": "2025-07-04T07:47:15.865776Z",
     "iopub.status.busy": "2025-07-04T07:47:15.865413Z",
     "iopub.status.idle": "2025-07-04T07:47:16.345263Z",
     "shell.execute_reply": "2025-07-04T07:47:16.343544Z"
    },
    "papermill": {
     "duration": 0.484896,
     "end_time": "2025-07-04T07:47:16.347153",
     "exception": false,
     "start_time": "2025-07-04T07:47:15.862257",
     "status": "completed"
    },
    "tags": []
   },
   "outputs": [],
   "source": [
    "combined = pd.concat([train[ndvi_cols], test[ndvi_cols]], axis=0)\n",
    "imputer = KNNImputer(n_neighbors=5)\n",
    "combined_imputed = imputer.fit_transform(combined)\n",
    "\n",
    "train[ndvi_cols] = combined_imputed[:len(train)]\n",
    "test[ndvi_cols] = combined_imputed[len(train):]\n"
   ]
  },
  {
   "cell_type": "code",
   "execution_count": 4,
   "id": "fcba3388",
   "metadata": {
    "execution": {
     "iopub.execute_input": "2025-07-04T07:47:16.353692Z",
     "iopub.status.busy": "2025-07-04T07:47:16.353212Z",
     "iopub.status.idle": "2025-07-04T07:47:17.438178Z",
     "shell.execute_reply": "2025-07-04T07:47:17.436636Z"
    },
    "papermill": {
     "duration": 1.09057,
     "end_time": "2025-07-04T07:47:17.440229",
     "exception": false,
     "start_time": "2025-07-04T07:47:16.349659",
     "status": "completed"
    },
    "tags": []
   },
   "outputs": [],
   "source": [
    "def add_features(df):\n",
    "    df['ndvi_mean'] = df[ndvi_cols].mean(axis=1)\n",
    "    df['ndvi_std'] = df[ndvi_cols].std(axis=1)\n",
    "    df['ndvi_min'] = df[ndvi_cols].min(axis=1)\n",
    "    df['ndvi_max'] = df[ndvi_cols].max(axis=1)\n",
    "    df['ndvi_range'] = df['ndvi_max'] - df['ndvi_min']\n",
    "    df['ndvi_trend'] = df[ndvi_cols].apply(\n",
    "        lambda row: np.polyfit(range(len(ndvi_cols)), row.values, 1)[0], axis=1\n",
    "    )\n",
    "    return df\n",
    "\n",
    "train = add_features(train)\n",
    "test = add_features(test)\n"
   ]
  },
  {
   "cell_type": "code",
   "execution_count": 5,
   "id": "c79bad4e",
   "metadata": {
    "execution": {
     "iopub.execute_input": "2025-07-04T07:47:17.448204Z",
     "iopub.status.busy": "2025-07-04T07:47:17.447907Z",
     "iopub.status.idle": "2025-07-04T07:47:17.459796Z",
     "shell.execute_reply": "2025-07-04T07:47:17.458376Z"
    },
    "papermill": {
     "duration": 0.017838,
     "end_time": "2025-07-04T07:47:17.461772",
     "exception": false,
     "start_time": "2025-07-04T07:47:17.443934",
     "status": "completed"
    },
    "tags": []
   },
   "outputs": [],
   "source": [
    "features = ndvi_cols + ['ndvi_mean', 'ndvi_std', 'ndvi_min', 'ndvi_max', 'ndvi_range', 'ndvi_trend']\n",
    "X = train[features]\n",
    "y = train['class']\n",
    "X_test = test[features]\n"
   ]
  },
  {
   "cell_type": "code",
   "execution_count": 6,
   "id": "dd48631c",
   "metadata": {
    "execution": {
     "iopub.execute_input": "2025-07-04T07:47:17.467627Z",
     "iopub.status.busy": "2025-07-04T07:47:17.467284Z",
     "iopub.status.idle": "2025-07-04T07:47:21.819556Z",
     "shell.execute_reply": "2025-07-04T07:47:21.818761Z"
    },
    "papermill": {
     "duration": 4.36198,
     "end_time": "2025-07-04T07:47:21.826035",
     "exception": false,
     "start_time": "2025-07-04T07:47:17.464055",
     "status": "completed"
    },
    "tags": []
   },
   "outputs": [
    {
     "name": "stdout",
     "output_type": "stream",
     "text": [
      "Cross-validation scores: [0.94     0.94625  0.945625 0.95     0.95375 ]\n",
      "Mean accuracy: 0.9471250000000001\n"
     ]
    }
   ],
   "source": [
    "pipeline = Pipeline([\n",
    "    ('scaler', StandardScaler()),\n",
    "    ('lr', LogisticRegression(max_iter=500, multi_class='multinomial', solver='lbfgs'))\n",
    "])\n",
    "\n",
    "cv = StratifiedKFold(n_splits=5, shuffle=True, random_state=42)\n",
    "scores = cross_val_score(pipeline, X, y, cv=cv, scoring='accuracy')\n",
    "print(\"Cross-validation scores:\", scores)\n",
    "print(\"Mean accuracy:\", scores.mean())\n"
   ]
  },
  {
   "cell_type": "code",
   "execution_count": 7,
   "id": "faf3c48d",
   "metadata": {
    "execution": {
     "iopub.execute_input": "2025-07-04T07:47:21.838791Z",
     "iopub.status.busy": "2025-07-04T07:47:21.837933Z",
     "iopub.status.idle": "2025-07-04T07:47:23.238010Z",
     "shell.execute_reply": "2025-07-04T07:47:23.236930Z"
    },
    "papermill": {
     "duration": 1.406764,
     "end_time": "2025-07-04T07:47:23.239943",
     "exception": false,
     "start_time": "2025-07-04T07:47:21.833179",
     "status": "completed"
    },
    "tags": []
   },
   "outputs": [],
   "source": [
    "pipeline.fit(X, y)\n",
    "preds = pipeline.predict(X_test)"
   ]
  },
  {
   "cell_type": "code",
   "execution_count": 8,
   "id": "d642627e",
   "metadata": {
    "execution": {
     "iopub.execute_input": "2025-07-04T07:47:23.256218Z",
     "iopub.status.busy": "2025-07-04T07:47:23.255637Z",
     "iopub.status.idle": "2025-07-04T07:47:23.274055Z",
     "shell.execute_reply": "2025-07-04T07:47:23.272164Z"
    },
    "papermill": {
     "duration": 0.027199,
     "end_time": "2025-07-04T07:47:23.276223",
     "exception": false,
     "start_time": "2025-07-04T07:47:23.249024",
     "status": "completed"
    },
    "tags": []
   },
   "outputs": [
    {
     "name": "stdout",
     "output_type": "stream",
     "text": [
      "submission.csv created successfully!\n"
     ]
    }
   ],
   "source": [
    "submission = pd.DataFrame({\n",
    "    'ID': test['ID'],\n",
    "    'class': preds\n",
    "})\n",
    "submission.to_csv('submission.csv', index=False)\n",
    "print(\"submission.csv created successfully!\")\n"
   ]
  }
 ],
 "metadata": {
  "kaggle": {
   "accelerator": "none",
   "dataSources": [
    {
     "datasetId": 7636920,
     "sourceId": 12127952,
     "sourceType": "datasetVersion"
    }
   ],
   "dockerImageVersionId": 31040,
   "isGpuEnabled": false,
   "isInternetEnabled": false,
   "language": "python",
   "sourceType": "notebook"
  },
  "kernelspec": {
   "display_name": "Python 3",
   "language": "python",
   "name": "python3"
  },
  "language_info": {
   "codemirror_mode": {
    "name": "ipython",
    "version": 3
   },
   "file_extension": ".py",
   "mimetype": "text/x-python",
   "name": "python",
   "nbconvert_exporter": "python",
   "pygments_lexer": "ipython3",
   "version": "3.11.11"
  },
  "papermill": {
   "default_parameters": {},
   "duration": 20.331251,
   "end_time": "2025-07-04T07:47:26.009800",
   "environment_variables": {},
   "exception": null,
   "input_path": "__notebook__.ipynb",
   "output_path": "__notebook__.ipynb",
   "parameters": {},
   "start_time": "2025-07-04T07:47:05.678549",
   "version": "2.6.0"
  }
 },
 "nbformat": 4,
 "nbformat_minor": 5
}
